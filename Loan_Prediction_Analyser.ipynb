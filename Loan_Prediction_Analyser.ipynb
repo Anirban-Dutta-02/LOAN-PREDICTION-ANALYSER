{
  "nbformat": 4,
  "nbformat_minor": 0,
  "metadata": {
    "colab": {
      "provenance": [],
      "authorship_tag": "ABX9TyMlE7vqDp8jmwg2o/l/U3Dd"
    },
    "kernelspec": {
      "name": "python3",
      "display_name": "Python 3"
    },
    "language_info": {
      "name": "python"
    }
  },
  "cells": [
    {
      "cell_type": "code",
      "execution_count": 1,
      "metadata": {
        "id": "as8qTwjds1W8"
      },
      "outputs": [],
      "source": [
        "import pandas as pd\n",
        "import numpy as np\n"
      ]
    },
    {
      "cell_type": "code",
      "source": [],
      "metadata": {
        "id": "T9_4lfkEo3wI"
      },
      "execution_count": null,
      "outputs": []
    }
  ]
}